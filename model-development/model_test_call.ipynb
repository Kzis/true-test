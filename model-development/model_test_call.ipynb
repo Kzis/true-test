{
 "cells": [
  {
   "cell_type": "code",
   "execution_count": 1,
   "id": "50b55737",
   "metadata": {},
   "outputs": [],
   "source": [
    "import requests\n",
    "\n",
    "from requests.auth import HTTPBasicAuth"
   ]
  },
  {
   "cell_type": "code",
   "execution_count": 5,
   "id": "02ada500",
   "metadata": {},
   "outputs": [],
   "source": [
    "URL = 'http://localhost:80/getclass'\n",
    "\n",
    "data = {\n",
    "  'x': -0.210738, \n",
    "  'y': -13.1719\n",
    "}\n",
    "\n",
    "response = requests.post(URL, json=data)\n"
   ]
  },
  {
   "cell_type": "code",
   "execution_count": 6,
   "id": "1d7cd318",
   "metadata": {},
   "outputs": [
    {
     "name": "stdout",
     "output_type": "stream",
     "text": [
      "{'class': 'class_A', 'confidence': 0.9999836683273315}\n"
     ]
    }
   ],
   "source": [
    "if response.status_code == 200:\n",
    "    res = response.json()['results']\n",
    "    print(res)"
   ]
  }
 ],
 "metadata": {
  "kernelspec": {
   "display_name": "Python 3 (ipykernel)",
   "language": "python",
   "name": "python3"
  },
  "language_info": {
   "codemirror_mode": {
    "name": "ipython",
    "version": 3
   },
   "file_extension": ".py",
   "mimetype": "text/x-python",
   "name": "python",
   "nbconvert_exporter": "python",
   "pygments_lexer": "ipython3",
   "version": "3.9.7"
  }
 },
 "nbformat": 4,
 "nbformat_minor": 5
}
